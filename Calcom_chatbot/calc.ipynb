{
 "cells": [
  {
   "cell_type": "markdown",
   "id": "218748a4-4363-4b66-94c8-be5512a86862",
   "metadata": {},
   "source": [
    "### Environment Setup\n",
    "This section imports necessary libraries, loads environment variables, and retrieves API keys required for interacting with external services like Google Vertex AI and Cal.com API."
   ]
  },
  {
   "cell_type": "code",
   "execution_count": 1,
   "id": "1c00df9c-a7ed-4eae-ba9e-b28a47b139ff",
   "metadata": {},
   "outputs": [],
   "source": [
    "import os\n",
    "import requests\n",
    "import json\n",
    "\n",
    "\n",
    "from dotenv import load_dotenv\n",
    "load_dotenv()\n",
    "\n",
    "GOOGLE_API_KEY= os.environ.get(\"GOOGLE_API_KEY\")\n",
    "CALCOM_API_KEY=os.environ.get(\"CALCOM_API_KEY\")"
   ]
  },
  {
   "cell_type": "markdown",
   "id": "3cf1bb0f-8f1e-4c9d-801c-66e50eaeb3c7",
   "metadata": {},
   "source": [
    "### Vertex AI Initialization\n",
    "Here, we initialize the Google Vertex AI platform with the specified project ID and location. We also load the Gemini generative model, which will be used later for AI-driven tasks"
   ]
  },
  {
   "cell_type": "code",
   "execution_count": 2,
   "id": "1d8cc77f-916c-4060-b251-85dd77b7cc8a",
   "metadata": {},
   "outputs": [],
   "source": [
    "import vertexai\n",
    "from vertexai.generative_models import (\n",
    "    Content,\n",
    "    FunctionDeclaration,\n",
    "    GenerationConfig,\n",
    "    GenerativeModel,\n",
    "    Part,\n",
    "    Tool,\n",
    ")\n",
    "\n",
    "PROJECT_ID = \"YOUR PROJECT_ID \" # @param {type:\"string\"}\n",
    "LOCATION = \"LOCATION\"  # @param {type:\"string\"}\n",
    "\n",
    "vertexai.init(project=PROJECT_ID, location=LOCATION)\n",
    "\n",
    "# Initialize Gemini model gemini-1.0-pro\n",
    "model = GenerativeModel(model_name=\"gemini-1.0-pro-001\")"
   ]
  },
  {
   "cell_type": "markdown",
   "id": "94967912-e3a6-4e3d-bc0e-aa813cf57cba",
   "metadata": {},
   "source": [
    "### Fetching Bookings\n",
    "This function retrieves all bookings for a given email address from Cal.com using the API. It handles any potential request errors and returns the response in JSON format."
   ]
  },
  {
   "cell_type": "code",
   "execution_count": 3,
   "id": "28d94003-78b2-4045-a52f-da86bc100fa7",
   "metadata": {},
   "outputs": [],
   "source": [
    "def get_all_bookings(attendee_email):\n",
    "    \"\"\"\n",
    "    Retrieves all bookings for a given attendee email address using the Cal.com API.\n",
    "\n",
    "    Args:\n",
    "        attendee_email (str): The email address of the attendee for whom to retrieve bookings.\n",
    "\n",
    "    Returns:\n",
    "        dict: A dictionary containing the parsed JSON response from the API,\n",
    "              or None if the request failed.\n",
    "\n",
    "    Raises:\n",
    "        requests.exceptions.RequestException: If an error occurs during the request.\n",
    "    \"\"\"\n",
    "\n",
    "    url = \"https://api.cal.com/v1/bookings\"\n",
    "    query_params = {\"apiKey\": CALCOM_API_KEY}  # Replace with your actual key\n",
    "    data = {\"attendeeEmail\": attendee_email}\n",
    "\n",
    "    try:\n",
    "        response = requests.get(url, params=query_params, json=data)\n",
    "        response.raise_for_status()  # Raise an exception for non-2xx status codes\n",
    "        return response.json()\n",
    "\n",
    "    except requests.exceptions.RequestException as e:\n",
    "        return json.dumps({\"error\": \"An unexpected error occurred\", \"details\": str(e)})\n"
   ]
  },
  {
   "cell_type": "markdown",
   "id": "7742a5c5-cc07-4cce-939b-c29bb3060392",
   "metadata": {},
   "source": [
    "This function checks available time slots for a given date using the Cal.com API. It processes the response, converts the times to the desired timezone, and returns them in a readable format."
   ]
  },
  {
   "cell_type": "code",
   "execution_count": 4,
   "id": "b2454402-10e7-4b7a-a53b-276cfcb7b387",
   "metadata": {},
   "outputs": [],
   "source": [
    "from datetime import datetime, timezone, timedelta\n",
    "\n",
    "def slot_availbility(date):\n",
    "    \n",
    "    url = \"https://api.cal.com/v1/slots\"\n",
    "    #print(f'{date}T00:00:00.000Z')\n",
    "\n",
    "    query_params = {\n",
    "        \"apiKey\": CALCOM_API_KEY,\n",
    "        \"eventTypeId\": 1237037,\n",
    "        \"startTime\": f'{date}T00:00:00.000Z',                \n",
    "        \"endTime\": f'{date}T23:45:00.000Z' \n",
    "\n",
    "    }\n",
    "    \n",
    "    \n",
    "    try:\n",
    "        response = requests.get(url, params=query_params)\n",
    "        response.raise_for_status()  # Raise exception for non-200 status codes\n",
    "        data= response.json()\n",
    "        times = []\n",
    "        for date, slots in data['slots'].items():\n",
    "            for slot in slots:\n",
    "            # Parse the time and extract only the time portion (HH:MM:SS)\n",
    "                time_str = slot['time']\n",
    "                utc_offset = timezone(timedelta(hours=-5))\n",
    "                time_obj = datetime.fromisoformat(time_str.replace('Z', '+00:00')).astimezone(utc_offset)\n",
    "                times.append(time_obj.strftime('%H:%M:%S'))\n",
    "        return times\n",
    "    except requests.exceptions.RequestException as e:\n",
    "        raise Exception(f\"Error :{e}\")"
   ]
  },
  {
   "cell_type": "code",
   "execution_count": null,
   "id": "0e960cb1-1e60-4c14-9b43-85269ef4d710",
   "metadata": {},
   "outputs": [],
   "source": []
  },
  {
   "cell_type": "code",
   "execution_count": 5,
   "id": "e76d62e2-5595-40e0-be61-7f7fcf9744ee",
   "metadata": {},
   "outputs": [],
   "source": [
    "def create_booking(start,email,date):\n",
    "    \"\"\"Creates a new booking on a calendar API.\n",
    "\n",
    "    Args:\n",
    "      start (str): The start time of the booking in ISO 8601 format (e.g., \"2024-10-25T10:00:00\").\n",
    "      end (str): The end time of the booking in ISO 8601 format (e.g., \"2024-10-25T10:30:00\").\n",
    "      email (str): The email address of the attendee.\n",
    "      date(str): Booking date in YYYY-MM-DD FORMAT \n",
    "      title (str, optional): The title of the booking. Defaults to \"Team Meeting\".\n",
    "      description (str, optional): The description of the booking. Defaults to \"Meeting Description\".\n",
    "      status (str, optional): The status of the booking (e.g., \"confirmed\", \"pending\"). Defaults to \"confirmed\".\n",
    "\n",
    "    Returns:\n",
    "      dict: The JSON response from the API call, containing information about the created booking.\n",
    "          Raises an exception if the API call fails.\n",
    "\n",
    "    Raises:\n",
    "      Exception: If the API call returns an error code or unexpected response.\n",
    "    \"\"\"\n",
    "    # check availbility\n",
    "    available_slots=slot_availbility(date)\n",
    "    \n",
    "    url = \"https://api.cal.com/v1/bookings\"\n",
    "\n",
    "    query_params = {\n",
    "      \"apiKey\": CALCOM_API_KEY\n",
    "    }\n",
    "    start_time=f'{date}T{start}-05:00'\n",
    "\n",
    "    if start in available_slots:\n",
    "        print(\"start_time\",start_time)\n",
    "    \n",
    "        data = {\n",
    "            \"eventTypeId\": int(1237037),\n",
    "            \"start\": start_time,\n",
    "            \"responses\": {\n",
    "              \"name\": \"gayathri\",\n",
    "              \"email\": email,\n",
    "              \"guests\": [],\n",
    "              \"location\": {\n",
    "                  \"value\": \"integrations:calcom\",\n",
    "                  \"optionValue\": \"\"\n",
    "              }\n",
    "            },\n",
    "            \"metadata\": {},\n",
    "            \"timeZone\": \"America/New_York\",  # Adjust if needed\n",
    "            \"language\": \"en\",\n",
    "            \"title\": \"\",\n",
    "            \"description\": \"\",\n",
    "            \"status\": \"confirmed\",\n",
    "            \"seatsPerTimeSlot\": 10,\n",
    "            \"seatsShowAttendees\": True,\n",
    "            \"seatsShowAvailabilityCount\": True\n",
    "        }\n",
    "    \n",
    "        try:\n",
    "            response = requests.post(url, params=query_params,json=data)\n",
    "            response.raise_for_status()  # Raise exception for non-200 status codes\n",
    "            return response.json()\n",
    "        except requests.exceptions.RequestException as e:\n",
    "            raise Exception(f\"Error creating booking: {e}\")\n",
    "    else:\n",
    "        return f'slot time is not avaible. Available slot times {available_slots}'"
   ]
  },
  {
   "cell_type": "code",
   "execution_count": 6,
   "id": "7734c4b1-d3b9-4386-9b1e-4f09624abafa",
   "metadata": {},
   "outputs": [],
   "source": [
    "def edit_booking(id, title,description,status=\"CANCELLED\"):\n",
    "    \"\"\"Edits a booking on a calendar API.\n",
    "    Args:\n",
    "      id (int): The ID of the booking to edit.\n",
    "      title (str, optional): The new title for the booking. Defaults to \"\".\n",
    "      start (str, optional): The new start time for the booking (format depends on API). Defaults to \"\".\n",
    "      end (str, optional): The new end time for the booking (format depends on API). Defaults to \"\".\n",
    "      status (str, optional): The new status for the booking. Defaults to \"CANCELLED\".\n",
    "      \n",
    "    Returns:\n",
    "      dict: The JSON response from the API call.\n",
    "      \n",
    "      \"\"\"\n",
    "    url = f\"https://api.cal.com/v1/bookings/{id}\"\n",
    "\n",
    "    query_params = {\n",
    "      \"apiKey\": CALCOM_API_KEY  # Replace with your actual API key\n",
    "    }\n",
    "\n",
    "    data = {\n",
    "        \"title\": title,\n",
    "        \"status\": status,\n",
    "        \"description\":description\n",
    "    }\n",
    "\n",
    "    response = requests.patch(url, params=query_params, json=data)  # Use PUT for editing\n",
    "\n",
    "    if response.status_code == 200:\n",
    "      return response.json()\n",
    "    else:\n",
    "      raise Exception(f\"Error editing booking: {response.text}\")"
   ]
  },
  {
   "cell_type": "code",
   "execution_count": 7,
   "id": "0948bdd0-17cc-4b6c-8735-c4a7158ef544",
   "metadata": {},
   "outputs": [],
   "source": [
    "def cancel_booking(booking_id):\n",
    "    \"\"\"\n",
    "    Cancels a booking on a Cal.com calendar using the provided API key and booking ID.\n",
    "\n",
    "    Args:\n",
    "        booking_id (int): The unique identifier of the booking to cancel.\n",
    "        api_key (str): Your Cal.com API key. Replace with your actual key.\n",
    "\n",
    "    Returns:\n",
    "        dict: A dictionary containing the response data from the API call,\n",
    "             or None if the request failed.\n",
    "\n",
    "    Raises:\n",
    "        requests.exceptions.RequestException: If an error occurs during the HTTP request.\n",
    "    \"\"\"\n",
    "\n",
    "    url = f\"https://api.cal.com/v1/bookings/{booking_id}/cancel\"\n",
    "    query_params = {\n",
    "      \"apiKey\": CALCOM_API_KEY  # Replace with your actual API key\n",
    "    }\n",
    "\n",
    "    try:\n",
    "        response = requests.delete(url, params=query_params)\n",
    "        response.raise_for_status()  # Raise an exception for non-2xx status codes\n",
    "\n",
    "        if response.content:\n",
    "            return response.json()  # Return JSON data if present\n",
    "        else:\n",
    "            return {}  # Return empty dict if response has no content\n",
    "\n",
    "    except requests.exceptions.RequestException as e:\n",
    "        return json.dumps({\"error\": \"An unexpected error occurred\", \"details\": str(e)})\n"
   ]
  },
  {
   "cell_type": "markdown",
   "id": "fb90873b-18a0-4912-992a-d07dbaa7db47",
   "metadata": {},
   "source": []
  },
  {
   "cell_type": "code",
   "execution_count": 8,
   "id": "9050dbf4-aaab-4d1a-98f9-024735b53d93",
   "metadata": {
    "scrolled": true
   },
   "outputs": [],
   "source": [
    "def run(user_query):\n",
    "\n",
    "    # function declarations \n",
    "    get_all_bookings_func = FunctionDeclaration(\n",
    "        name=\"get_all_bookings\",\n",
    "        description=\"Retrieves all bookings for a given attendee email address.\",\n",
    "        parameters={\n",
    "            \"type\": \"object\",\n",
    "            \"properties\": {\"attendee_email\": {\"type\": \"string\", \"description\": \"email of the attendee\"}},\n",
    "        },\n",
    "    )\n",
    "    \n",
    "    \n",
    "    create_booking_func = FunctionDeclaration(\n",
    "        name=\"create_booking\",\n",
    "        description=\"Creates a new booking with specified event type, start, end, and attendee email.\",\n",
    "        parameters={\n",
    "            \"type\": \"object\",\n",
    "            \"properties\": {\n",
    "                \"start\": {\"type\": \"string\", \"description\": \"start time for the booking ISO 8601 format\"},\n",
    "                \"date\":{\"type\":\"string\", \"description\": \"date in YYYY-MM-DD format, consider year as 2024 if not provided\"},\n",
    "                \"email\": {\"type\": \"string\", \"description\": \"Attendee email\"},\n",
    "            },\n",
    "            \"required\": [\"start\",\"email\",\"date\"]\n",
    "        },\n",
    "    )\n",
    "    \n",
    "    edit_booking_func = FunctionDeclaration(\n",
    "        name=\"edit_booking\",\n",
    "        description=\"Edits an existing booking with specified ID, start, end, and attendee email.\",\n",
    "        parameters={\n",
    "            \"type\": \"object\",\n",
    "            \"properties\": {\n",
    "                \"booking_id\": {\"type\": \"integer\", \"description\": \"ID of the booking to edit\"},\n",
    "                \"title\":{\"type\": \"string\", \"description\": \"new title of the booking\"},\n",
    "                \"start\": {\"type\": \"string\", \"description\": \"new start time for the booking ISO 8601 format with a -5 timezone offset\"},\n",
    "                \"end\": {\"type\": \"string\", \"description\": \"new End time for the booking ISO 8601 format with a -5 timezone offset\"},\n",
    "                \"description\": {\"type\": \"string\", \"description\": \"#new status for the booking. Allowed values('CANCELLED' | 'ACCEPTED' | 'REJECTED' | 'PENDING' | 'AWAITING_HOST')\"},\n",
    "            },\n",
    "            \"required\": [\"booking_id\"]\n",
    "        },\n",
    "    )\n",
    "    \n",
    "    \n",
    "    cancel_booking_func = FunctionDeclaration(\n",
    "        name=\"cancel_booking\",\n",
    "        description=\"Cancels an existing booking with specified ID.\",\n",
    "        parameters={\n",
    "            \"type\": \"object\",\n",
    "            \"properties\": {\"booking_id\": {\"type\": \"integer\", \"description\": \"ID of the booking to cancel\"}},\n",
    "            \"required\": [\"booking_id\"]\n",
    "        },\n",
    "    )\n",
    "    \n",
    "    booking_tool = Tool(\n",
    "        function_declarations=[\n",
    "            get_all_bookings_func,\n",
    "            create_booking_func, \n",
    "            edit_booking_func, \n",
    "            cancel_booking_func,\n",
    "        ],\n",
    "    )\n",
    "    \n",
    "    model = GenerativeModel(\n",
    "        model_name=\"gemini-1.0-pro\",\n",
    "        generation_config=GenerationConfig(temperature=0),\n",
    "        tools=[booking_tool],\n",
    "    )\n",
    "\n",
    "    # Start a chat session\n",
    "    chat = model.start_chat()\n",
    "    \n",
    "    \n",
    "    function_response = chat.send_message(user_query)\n",
    "\n",
    "    \n",
    "    try:\n",
    "        function_call=function_response.candidates[0].function_calls[0].name\n",
    "        function_args=function_response.candidates[0].function_calls[0].args\n",
    "\n",
    "\n",
    "        if function_call=='get_all_bookings':\n",
    "            attendee_email=function_args['attendee_email']\n",
    "            api_response=get_all_bookings(attendee_email)\n",
    "            \n",
    "        elif function_call==\"create_booking\":\n",
    "            start=function_args['start']\n",
    "            email=function_args['email']\n",
    "            date=function_args['date']\n",
    "            \n",
    "            api_response=create_booking(start,email,date)\n",
    "    \n",
    "        elif function_call==\"edit_booking\":\n",
    "            booking_id=function_args['booking_id']\n",
    "            title = function_args['title'] if 'title' in function_args else \" \"\n",
    "            description = function_args['description'] if 'description' in function_args else \" \"\n",
    "            \n",
    "            api_response=edit_booking(booking_id,title,description)\n",
    "    \n",
    "        elif function_call==\"cancel_booking\":\n",
    "            booking_id=function_args['booking_id']\n",
    "            api_response=cancel_booking(booking_id)\n",
    "\n",
    "        response = chat.send_message(\n",
    "            Part.from_function_response(\n",
    "                name=function_call,\n",
    "                response={\n",
    "                    \"content\": api_response,\n",
    "                },\n",
    "            ),\n",
    "        )   \n",
    "        return response.text,function_response\n",
    "        \n",
    "    except:\n",
    "    # No function call, handle the regular response\n",
    "        model_response = function_response.candidates[0].text\n",
    "        print(model_response)\n",
    "        return model_response,function_response\n",
    "\n",
    "\n"
   ]
  },
  {
   "cell_type": "code",
   "execution_count": 9,
   "id": "e08f6333-bb8f-4553-921b-d25e1be9ffb4",
   "metadata": {
    "scrolled": true
   },
   "outputs": [
    {
     "name": "stdout",
     "output_type": "stream",
     "text": [
      "## Gayathri's Scheduled Meetings:\n",
      "\n",
      "**1. Cancelled Meeting:**\n",
      "* **Date:** 2024-09-24\n",
      "* **Time:** 2:00 PM - 2:30 PM EST\n",
      "* **Title:** a meeting between gayathri and her collegue\n",
      "* **Description:** \n",
      "\n",
      "**2. Accepted Meeting:**\n",
      "* **Date:** 2024-09-24\n",
      "* **Time:** 3:45 PM - 4:00 PM EST\n",
      "* **Title:** 15 Min Meeting between Gayathri Pittu and Gayathri\n",
      "* **Description:** \n",
      "\n",
      "**3. Cancelled Meeting:**\n",
      "* **Date:** 2024-09-26\n",
      "* **Time:** 6:00 PM - 6:30 PM EST\n",
      "* **Title:** 30 Min Meeting between Gayathri Pittu and gayathrip\n",
      "* **Description:** \n",
      "\n",
      "**4. Accepted Meeting:**\n",
      "* **Date:** 2024-10-09\n",
      "* **Time:** 5:00 PM - 5:15 PM EST\n",
      "* **Title:** 15min between Gayathri Pittu and gayathri\n",
      "* **Description:** \n",
      "\n",
      "**5. Accepted Meeting:**\n",
      "* **Date:** 2024-10-08\n",
      "* **Time:** 3:00 PM - 3:15 PM EST\n",
      "* **Title:** 15min between Gayathri Pittu and gayathri\n",
      "* **Description:** \n",
      "\n",
      "**6. Accepted Meeting:**\n",
      "* **Date:** 2024-10-15\n",
      "* **Time:** 3:00 PM - 3:30 PM EST\n",
      "* **Title:** 30min between Gayathri Pittu and John Doe\n",
      "* **Description:** \n",
      "\n",
      "**7. Cancelled Meeting:**\n",
      "* **Date:** 2024-10-25\n",
      "* **Time:** 3:00 PM - 3:15 PM EST\n",
      "* **Title:** meeting on project updates.\n",
      "* **Description:** \n",
      "\n",
      "**8. Accepted Meeting:**\n",
      "* **Date:** 2024-10-10\n",
      "* **Time:** 5:00 PM - 5:15 PM EST\n",
      "* **Title:** 15min between Gayathri Pittu and gayathri\n",
      "* **Description:** \n",
      "\n",
      "**9. Accepted Meeting:**\n",
      "* **Date:** 2024-10-14\n",
      "* **Time:** 3:30 PM - 3:45 PM EST\n",
      "* **Title:** 15min between Gayathri Pittu and gayathri\n",
      "* **Description:** \n",
      "\n"
     ]
    }
   ],
   "source": [
    "response,function_response=run(\"What are gayathrip556@gmail.com's scheduled meetings?\")\n",
    "print(response.text)"
   ]
  },
  {
   "cell_type": "markdown",
   "id": "cee12382-26c3-44fa-b5ac-55cf23d5ca44",
   "metadata": {},
   "source": [
    "This cell provides insights into the program's internal logic. It explains how the Large Language Model (LLM) processed the query and determined the appropriate function to use. The LLM identified the \"get_all_bookings\" function and supplied the necessary arguments, including the attendee email address (\"gayathrip556@gmail.com\") used to filter the retrieved bookings."
   ]
  },
  {
   "cell_type": "code",
   "execution_count": 10,
   "id": "c5e51cca-0e2e-413b-882f-1c82ba6cd703",
   "metadata": {
    "scrolled": true
   },
   "outputs": [
    {
     "data": {
      "text/plain": [
       "candidates {\n",
       "  content {\n",
       "    role: \"model\"\n",
       "    parts {\n",
       "      function_call {\n",
       "        name: \"get_all_bookings\"\n",
       "        args {\n",
       "          fields {\n",
       "            key: \"attendee_email\"\n",
       "            value {\n",
       "              string_value: \"gayathrip556@gmail.com\"\n",
       "            }\n",
       "          }\n",
       "        }\n",
       "      }\n",
       "    }\n",
       "  }\n",
       "  finish_reason: STOP\n",
       "  safety_ratings {\n",
       "    category: HARM_CATEGORY_HATE_SPEECH\n",
       "    probability: NEGLIGIBLE\n",
       "    probability_score: 0.265625\n",
       "    severity: HARM_SEVERITY_LOW\n",
       "    severity_score: 0.202148438\n",
       "  }\n",
       "  safety_ratings {\n",
       "    category: HARM_CATEGORY_DANGEROUS_CONTENT\n",
       "    probability: NEGLIGIBLE\n",
       "    probability_score: 0.345703125\n",
       "    severity: HARM_SEVERITY_LOW\n",
       "    severity_score: 0.341796875\n",
       "  }\n",
       "  safety_ratings {\n",
       "    category: HARM_CATEGORY_HARASSMENT\n",
       "    probability: NEGLIGIBLE\n",
       "    probability_score: 0.267578125\n",
       "    severity: HARM_SEVERITY_LOW\n",
       "    severity_score: 0.255859375\n",
       "  }\n",
       "  safety_ratings {\n",
       "    category: HARM_CATEGORY_SEXUALLY_EXPLICIT\n",
       "    probability: NEGLIGIBLE\n",
       "    probability_score: 0.221679688\n",
       "    severity: HARM_SEVERITY_NEGLIGIBLE\n",
       "    severity_score: 0.114257812\n",
       "  }\n",
       "  avg_logprobs: -0.00010806210584154254\n",
       "}\n",
       "usage_metadata {\n",
       "  prompt_token_count: 237\n",
       "  candidates_token_count: 19\n",
       "  total_token_count: 256\n",
       "}\n",
       "model_version: \"gemini-1.0-pro\""
      ]
     },
     "execution_count": 10,
     "metadata": {},
     "output_type": "execute_result"
    }
   ],
   "source": [
    "function_response"
   ]
  },
  {
   "cell_type": "code",
   "execution_count": 11,
   "id": "55e473c5-1b90-4531-920c-7c36cb8ff3b5",
   "metadata": {},
   "outputs": [
    {
     "name": "stdout",
     "output_type": "stream",
     "text": [
      "OK. I've changed the title of your meeting with ID 3613259 to \"meeting on project updates.\". Is there anything else?\n"
     ]
    }
   ],
   "source": [
    "response,function_response=run(\"Change my meeting with 3613259 title to 'meeting on project updates.'\")\n",
    "print(response.text)"
   ]
  },
  {
   "cell_type": "code",
   "execution_count": 12,
   "id": "1ce885c6-db16-4380-b28d-644c3fc3d8b1",
   "metadata": {
    "scrolled": true
   },
   "outputs": [
    {
     "data": {
      "text/plain": [
       "candidates {\n",
       "  content {\n",
       "    role: \"model\"\n",
       "    parts {\n",
       "      function_call {\n",
       "        name: \"edit_booking\"\n",
       "        args {\n",
       "          fields {\n",
       "            key: \"title\"\n",
       "            value {\n",
       "              string_value: \"meeting on project updates.\"\n",
       "            }\n",
       "          }\n",
       "          fields {\n",
       "            key: \"booking_id\"\n",
       "            value {\n",
       "              number_value: 3613259\n",
       "            }\n",
       "          }\n",
       "        }\n",
       "      }\n",
       "    }\n",
       "  }\n",
       "  finish_reason: STOP\n",
       "  safety_ratings {\n",
       "    category: HARM_CATEGORY_HATE_SPEECH\n",
       "    probability: NEGLIGIBLE\n",
       "    probability_score: 0.138671875\n",
       "    severity: HARM_SEVERITY_NEGLIGIBLE\n",
       "    severity_score: 0.138671875\n",
       "  }\n",
       "  safety_ratings {\n",
       "    category: HARM_CATEGORY_DANGEROUS_CONTENT\n",
       "    probability: NEGLIGIBLE\n",
       "    probability_score: 0.298828125\n",
       "    severity: HARM_SEVERITY_LOW\n",
       "    severity_score: 0.211914062\n",
       "  }\n",
       "  safety_ratings {\n",
       "    category: HARM_CATEGORY_HARASSMENT\n",
       "    probability: NEGLIGIBLE\n",
       "    probability_score: 0.1875\n",
       "    severity: HARM_SEVERITY_NEGLIGIBLE\n",
       "    severity_score: 0.0888671875\n",
       "  }\n",
       "  safety_ratings {\n",
       "    category: HARM_CATEGORY_SEXUALLY_EXPLICIT\n",
       "    probability: NEGLIGIBLE\n",
       "    probability_score: 0.125976562\n",
       "    severity: HARM_SEVERITY_NEGLIGIBLE\n",
       "    severity_score: 0.0727539062\n",
       "  }\n",
       "  avg_logprobs: -0.002505989590038856\n",
       "}\n",
       "usage_metadata {\n",
       "  prompt_token_count: 240\n",
       "  candidates_token_count: 12\n",
       "  total_token_count: 252\n",
       "}\n",
       "model_version: \"gemini-1.0-pro\""
      ]
     },
     "execution_count": 12,
     "metadata": {},
     "output_type": "execute_result"
    }
   ],
   "source": [
    "function_response"
   ]
  },
  {
   "cell_type": "code",
   "execution_count": 15,
   "id": "a2124e3d-9d7c-4554-bff6-939b4ec9d747",
   "metadata": {},
   "outputs": [
    {
     "name": "stdout",
     "output_type": "stream",
     "text": [
      "OK. I have cancelled the booking with ID 3412524. \n",
      "Is there anything else?\n"
     ]
    }
   ],
   "source": [
    "response,function_response=run(\"Remove my meeting with 3412524\")\n",
    "print(response.text)"
   ]
  },
  {
   "cell_type": "code",
   "execution_count": 16,
   "id": "b3917592-d34a-4dee-afdf-93d5a1c70b6e",
   "metadata": {
    "scrolled": true
   },
   "outputs": [
    {
     "data": {
      "text/plain": [
       "candidates {\n",
       "  content {\n",
       "    role: \"model\"\n",
       "    parts {\n",
       "      function_call {\n",
       "        name: \"cancel_booking\"\n",
       "        args {\n",
       "          fields {\n",
       "            key: \"booking_id\"\n",
       "            value {\n",
       "              number_value: 3412524\n",
       "            }\n",
       "          }\n",
       "        }\n",
       "      }\n",
       "    }\n",
       "  }\n",
       "  finish_reason: STOP\n",
       "  safety_ratings {\n",
       "    category: HARM_CATEGORY_HATE_SPEECH\n",
       "    probability: NEGLIGIBLE\n",
       "    probability_score: 0.198242188\n",
       "    severity: HARM_SEVERITY_NEGLIGIBLE\n",
       "    severity_score: 0.151367188\n",
       "  }\n",
       "  safety_ratings {\n",
       "    category: HARM_CATEGORY_DANGEROUS_CONTENT\n",
       "    probability: NEGLIGIBLE\n",
       "    probability_score: 0.5\n",
       "    severity: HARM_SEVERITY_LOW\n",
       "    severity_score: 0.357421875\n",
       "  }\n",
       "  safety_ratings {\n",
       "    category: HARM_CATEGORY_HARASSMENT\n",
       "    probability: NEGLIGIBLE\n",
       "    probability_score: 0.32421875\n",
       "    severity: HARM_SEVERITY_LOW\n",
       "    severity_score: 0.200195312\n",
       "  }\n",
       "  safety_ratings {\n",
       "    category: HARM_CATEGORY_SEXUALLY_EXPLICIT\n",
       "    probability: NEGLIGIBLE\n",
       "    probability_score: 0.133789062\n",
       "    severity: HARM_SEVERITY_NEGLIGIBLE\n",
       "    severity_score: 0.120117188\n",
       "  }\n",
       "  avg_logprobs: -0.00041645322926342487\n",
       "}\n",
       "usage_metadata {\n",
       "  prompt_token_count: 232\n",
       "  candidates_token_count: 6\n",
       "  total_token_count: 238\n",
       "}\n",
       "model_version: \"gemini-1.0-pro\""
      ]
     },
     "execution_count": 16,
     "metadata": {},
     "output_type": "execute_result"
    }
   ],
   "source": [
    "function_response"
   ]
  },
  {
   "cell_type": "code",
   "execution_count": 17,
   "id": "78e3eed9-3d67-4d09-88d4-1e65e3185f88",
   "metadata": {
    "scrolled": true
   },
   "outputs": [
    {
     "name": "stdout",
     "output_type": "stream",
     "text": [
      "start_time 2024-10-14T11:30:00-05:00\n",
      "OK. I've created a booking for Olive@calc.com on October 14th at 11:30am. \n",
      "\n",
      "Here are the details:\n",
      "\n",
      "* **Date:** 2024-10-14\n",
      "* **Time:** 11:30am\n",
      "* **Email:** Olive@calc.com\n",
      "* **Title:** 15min between Gayathri Pittu and gayathri\n",
      "* **Status:** ACCEPTED\n",
      "\n",
      "Is there anything else I can help you with?\n"
     ]
    }
   ],
   "source": [
    "response,function_response=run(\"create a booking on october 14th  at 11.30am with Olive@calc.com\")\n",
    "print(response.text)"
   ]
  },
  {
   "cell_type": "code",
   "execution_count": 46,
   "id": "2720c58e-5465-45a6-ae12-b73ee0640431",
   "metadata": {},
   "outputs": [
    {
     "name": "stdout",
     "output_type": "stream",
     "text": [
      "What is your email? \n",
      "What time would you like to book it for?\n",
      "What is your email? \n",
      "What time would you like to book it for?\n"
     ]
    }
   ],
   "source": [
    "response,function_response=run(\"create a booking on tuesday\")\n",
    "print(response)"
   ]
  },
  {
   "cell_type": "code",
   "execution_count": 47,
   "id": "ad7e68ba-02c3-4b59-964d-5898beaffa3d",
   "metadata": {
    "scrolled": true
   },
   "outputs": [
    {
     "data": {
      "text/plain": [
       "candidates {\n",
       "  content {\n",
       "    role: \"model\"\n",
       "    parts {\n",
       "      text: \"What is your email? \\nWhat time would you like to book it for?\"\n",
       "    }\n",
       "  }\n",
       "  finish_reason: STOP\n",
       "  safety_ratings {\n",
       "    category: HARM_CATEGORY_HATE_SPEECH\n",
       "    probability: NEGLIGIBLE\n",
       "    probability_score: 0.06640625\n",
       "    severity: HARM_SEVERITY_NEGLIGIBLE\n",
       "    severity_score: 0.0693359375\n",
       "  }\n",
       "  safety_ratings {\n",
       "    category: HARM_CATEGORY_DANGEROUS_CONTENT\n",
       "    probability: NEGLIGIBLE\n",
       "    probability_score: 0.1484375\n",
       "    severity: HARM_SEVERITY_NEGLIGIBLE\n",
       "    severity_score: 0.117675781\n",
       "  }\n",
       "  safety_ratings {\n",
       "    category: HARM_CATEGORY_HARASSMENT\n",
       "    probability: NEGLIGIBLE\n",
       "    probability_score: 0.21875\n",
       "    severity: HARM_SEVERITY_NEGLIGIBLE\n",
       "    severity_score: 0.0583496094\n",
       "  }\n",
       "  safety_ratings {\n",
       "    category: HARM_CATEGORY_SEXUALLY_EXPLICIT\n",
       "    probability: NEGLIGIBLE\n",
       "    probability_score: 0.166015625\n",
       "    severity: HARM_SEVERITY_NEGLIGIBLE\n",
       "    severity_score: 0.134765625\n",
       "  }\n",
       "  avg_logprobs: -0.13730214623843923\n",
       "}\n",
       "usage_metadata {\n",
       "  prompt_token_count: 225\n",
       "  candidates_token_count: 17\n",
       "  total_token_count: 242\n",
       "}\n",
       "model_version: \"gemini-1.0-pro\""
      ]
     },
     "execution_count": 47,
     "metadata": {},
     "output_type": "execute_result"
    }
   ],
   "source": [
    "function_response"
   ]
  },
  {
   "cell_type": "code",
   "execution_count": 48,
   "id": "acfe30f3-09ba-4fa0-91ef-c96dd77e9cfa",
   "metadata": {},
   "outputs": [
    {
     "name": "stdout",
     "output_type": "stream",
     "text": [
      "What is the attendee's email?\n"
     ]
    },
    {
     "data": {
      "text/plain": [
       "\"What is the attendee's email?\""
      ]
     },
     "execution_count": 48,
     "metadata": {},
     "output_type": "execute_result"
    }
   ],
   "source": [
    "response,function_response=run(\"give me available slots\")\n",
    "response"
   ]
  },
  {
   "cell_type": "code",
   "execution_count": 49,
   "id": "a8a84827-41f7-4c39-a792-59ad26a989aa",
   "metadata": {
    "scrolled": true
   },
   "outputs": [
    {
     "data": {
      "text/plain": [
       "candidates {\n",
       "  content {\n",
       "    role: \"model\"\n",
       "    parts {\n",
       "      text: \"What is the attendee\\'s email?\"\n",
       "    }\n",
       "  }\n",
       "  finish_reason: STOP\n",
       "  safety_ratings {\n",
       "    category: HARM_CATEGORY_HATE_SPEECH\n",
       "    probability: NEGLIGIBLE\n",
       "    probability_score: 0.101074219\n",
       "    severity: HARM_SEVERITY_NEGLIGIBLE\n",
       "    severity_score: 0.103515625\n",
       "  }\n",
       "  safety_ratings {\n",
       "    category: HARM_CATEGORY_DANGEROUS_CONTENT\n",
       "    probability: NEGLIGIBLE\n",
       "    probability_score: 0.271484375\n",
       "    severity: HARM_SEVERITY_NEGLIGIBLE\n",
       "    severity_score: 0.078125\n",
       "  }\n",
       "  safety_ratings {\n",
       "    category: HARM_CATEGORY_HARASSMENT\n",
       "    probability: NEGLIGIBLE\n",
       "    probability_score: 0.184570312\n",
       "    severity: HARM_SEVERITY_NEGLIGIBLE\n",
       "    severity_score: 0.0727539062\n",
       "  }\n",
       "  safety_ratings {\n",
       "    category: HARM_CATEGORY_SEXUALLY_EXPLICIT\n",
       "    probability: NEGLIGIBLE\n",
       "    probability_score: 0.102539062\n",
       "    severity: HARM_SEVERITY_NEGLIGIBLE\n",
       "    severity_score: 0.0717773438\n",
       "  }\n",
       "  avg_logprobs: -0.3038458526134491\n",
       "}\n",
       "usage_metadata {\n",
       "  prompt_token_count: 224\n",
       "  candidates_token_count: 8\n",
       "  total_token_count: 232\n",
       "}\n",
       "model_version: \"gemini-1.0-pro\""
      ]
     },
     "execution_count": 49,
     "metadata": {},
     "output_type": "execute_result"
    }
   ],
   "source": [
    "function_response"
   ]
  },
  {
   "cell_type": "code",
   "execution_count": null,
   "id": "26a8469c-db86-46d8-8ec3-965a6e9959b1",
   "metadata": {},
   "outputs": [],
   "source": []
  }
 ],
 "metadata": {
  "kernelspec": {
   "display_name": "Python ai_env",
   "language": "python",
   "name": "ai_env"
  },
  "language_info": {
   "codemirror_mode": {
    "name": "ipython",
    "version": 3
   },
   "file_extension": ".py",
   "mimetype": "text/x-python",
   "name": "python",
   "nbconvert_exporter": "python",
   "pygments_lexer": "ipython3",
   "version": "3.12.5"
  }
 },
 "nbformat": 4,
 "nbformat_minor": 5
}
